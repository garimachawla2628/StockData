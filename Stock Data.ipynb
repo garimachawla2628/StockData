{
 "cells": [
  {
   "cell_type": "code",
   "execution_count": 3,
   "metadata": {
    "scrolled": true
   },
   "outputs": [],
   "source": [
    "import pandas as pd \n",
    "apple = pd.read_csv(r'C:\\Users\\GARIMA\\Downloads\\Apple Data.csv')"
   ]
  },
  {
   "cell_type": "code",
   "execution_count": 5,
   "metadata": {},
   "outputs": [
    {
     "data": {
      "text/html": [
       "<div>\n",
       "<style scoped>\n",
       "    .dataframe tbody tr th:only-of-type {\n",
       "        vertical-align: middle;\n",
       "    }\n",
       "\n",
       "    .dataframe tbody tr th {\n",
       "        vertical-align: top;\n",
       "    }\n",
       "\n",
       "    .dataframe thead th {\n",
       "        text-align: right;\n",
       "    }\n",
       "</style>\n",
       "<table border=\"1\" class=\"dataframe\">\n",
       "  <thead>\n",
       "    <tr style=\"text-align: right;\">\n",
       "      <th></th>\n",
       "      <th>Date</th>\n",
       "      <th>Close/Last</th>\n",
       "      <th>Volume</th>\n",
       "      <th>Open</th>\n",
       "      <th>High</th>\n",
       "      <th>Low</th>\n",
       "    </tr>\n",
       "  </thead>\n",
       "  <tbody>\n",
       "    <tr>\n",
       "      <th>0</th>\n",
       "      <td>03/31/2021</td>\n",
       "      <td>$122.15</td>\n",
       "      <td>118323800</td>\n",
       "      <td>$121.65</td>\n",
       "      <td>$123.52</td>\n",
       "      <td>$121.15</td>\n",
       "    </tr>\n",
       "    <tr>\n",
       "      <th>1</th>\n",
       "      <td>03/30/2021</td>\n",
       "      <td>$119.9</td>\n",
       "      <td>85671920</td>\n",
       "      <td>$120.11</td>\n",
       "      <td>$120.4031</td>\n",
       "      <td>$118.86</td>\n",
       "    </tr>\n",
       "    <tr>\n",
       "      <th>2</th>\n",
       "      <td>03/29/2021</td>\n",
       "      <td>$121.39</td>\n",
       "      <td>80819200</td>\n",
       "      <td>$121.65</td>\n",
       "      <td>$122.58</td>\n",
       "      <td>$120.7299</td>\n",
       "    </tr>\n",
       "    <tr>\n",
       "      <th>3</th>\n",
       "      <td>03/26/2021</td>\n",
       "      <td>$121.21</td>\n",
       "      <td>94071230</td>\n",
       "      <td>$120.35</td>\n",
       "      <td>$121.48</td>\n",
       "      <td>$118.92</td>\n",
       "    </tr>\n",
       "    <tr>\n",
       "      <th>4</th>\n",
       "      <td>03/25/2021</td>\n",
       "      <td>$120.59</td>\n",
       "      <td>98844680</td>\n",
       "      <td>$119.54</td>\n",
       "      <td>$121.66</td>\n",
       "      <td>$119</td>\n",
       "    </tr>\n",
       "  </tbody>\n",
       "</table>\n",
       "</div>"
      ],
      "text/plain": [
       "         Date Close/Last     Volume     Open       High        Low\n",
       "0  03/31/2021    $122.15  118323800  $121.65    $123.52    $121.15\n",
       "1  03/30/2021     $119.9   85671920  $120.11  $120.4031    $118.86\n",
       "2  03/29/2021    $121.39   80819200  $121.65    $122.58  $120.7299\n",
       "3  03/26/2021    $121.21   94071230  $120.35    $121.48    $118.92\n",
       "4  03/25/2021    $120.59   98844680  $119.54    $121.66       $119"
      ]
     },
     "execution_count": 5,
     "metadata": {},
     "output_type": "execute_result"
    }
   ],
   "source": [
    "apple.head()                                   #first 5"
   ]
  },
  {
   "cell_type": "code",
   "execution_count": 6,
   "metadata": {},
   "outputs": [
    {
     "data": {
      "text/html": [
       "<div>\n",
       "<style scoped>\n",
       "    .dataframe tbody tr th:only-of-type {\n",
       "        vertical-align: middle;\n",
       "    }\n",
       "\n",
       "    .dataframe tbody tr th {\n",
       "        vertical-align: top;\n",
       "    }\n",
       "\n",
       "    .dataframe thead th {\n",
       "        text-align: right;\n",
       "    }\n",
       "</style>\n",
       "<table border=\"1\" class=\"dataframe\">\n",
       "  <thead>\n",
       "    <tr style=\"text-align: right;\">\n",
       "      <th></th>\n",
       "      <th>Date</th>\n",
       "      <th>Close/Last</th>\n",
       "      <th>Volume</th>\n",
       "      <th>Open</th>\n",
       "      <th>High</th>\n",
       "      <th>Low</th>\n",
       "    </tr>\n",
       "  </thead>\n",
       "  <tbody>\n",
       "    <tr>\n",
       "      <th>18</th>\n",
       "      <td>03/05/2021</td>\n",
       "      <td>$121.42</td>\n",
       "      <td>153766600</td>\n",
       "      <td>$120.98</td>\n",
       "      <td>$121.935</td>\n",
       "      <td>$117.57</td>\n",
       "    </tr>\n",
       "    <tr>\n",
       "      <th>19</th>\n",
       "      <td>03/04/2021</td>\n",
       "      <td>$120.13</td>\n",
       "      <td>178155000</td>\n",
       "      <td>$121.75</td>\n",
       "      <td>$123.6</td>\n",
       "      <td>$118.62</td>\n",
       "    </tr>\n",
       "    <tr>\n",
       "      <th>20</th>\n",
       "      <td>03/03/2021</td>\n",
       "      <td>$122.06</td>\n",
       "      <td>112966300</td>\n",
       "      <td>$124.81</td>\n",
       "      <td>$125.71</td>\n",
       "      <td>$121.84</td>\n",
       "    </tr>\n",
       "    <tr>\n",
       "      <th>21</th>\n",
       "      <td>03/02/2021</td>\n",
       "      <td>$125.12</td>\n",
       "      <td>102260900</td>\n",
       "      <td>$128.41</td>\n",
       "      <td>$128.72</td>\n",
       "      <td>$125.01</td>\n",
       "    </tr>\n",
       "    <tr>\n",
       "      <th>22</th>\n",
       "      <td>03/01/2021</td>\n",
       "      <td>$127.79</td>\n",
       "      <td>116307900</td>\n",
       "      <td>$123.75</td>\n",
       "      <td>$127.93</td>\n",
       "      <td>$122.79</td>\n",
       "    </tr>\n",
       "  </tbody>\n",
       "</table>\n",
       "</div>"
      ],
      "text/plain": [
       "          Date Close/Last     Volume     Open      High      Low\n",
       "18  03/05/2021    $121.42  153766600  $120.98  $121.935  $117.57\n",
       "19  03/04/2021    $120.13  178155000  $121.75    $123.6  $118.62\n",
       "20  03/03/2021    $122.06  112966300  $124.81   $125.71  $121.84\n",
       "21  03/02/2021    $125.12  102260900  $128.41   $128.72  $125.01\n",
       "22  03/01/2021    $127.79  116307900  $123.75   $127.93  $122.79"
      ]
     },
     "execution_count": 6,
     "metadata": {},
     "output_type": "execute_result"
    }
   ],
   "source": [
    "apple.tail()                                   #last 5"
   ]
  },
  {
   "cell_type": "code",
   "execution_count": 8,
   "metadata": {},
   "outputs": [
    {
     "data": {
      "text/html": [
       "<div>\n",
       "<style scoped>\n",
       "    .dataframe tbody tr th:only-of-type {\n",
       "        vertical-align: middle;\n",
       "    }\n",
       "\n",
       "    .dataframe tbody tr th {\n",
       "        vertical-align: top;\n",
       "    }\n",
       "\n",
       "    .dataframe thead th {\n",
       "        text-align: right;\n",
       "    }\n",
       "</style>\n",
       "<table border=\"1\" class=\"dataframe\">\n",
       "  <thead>\n",
       "    <tr style=\"text-align: right;\">\n",
       "      <th></th>\n",
       "      <th>Volume</th>\n",
       "    </tr>\n",
       "  </thead>\n",
       "  <tbody>\n",
       "    <tr>\n",
       "      <th>count</th>\n",
       "      <td>2.300000e+01</td>\n",
       "    </tr>\n",
       "    <tr>\n",
       "      <th>mean</th>\n",
       "      <td>1.152541e+08</td>\n",
       "    </tr>\n",
       "    <tr>\n",
       "      <th>std</th>\n",
       "      <td>2.832969e+07</td>\n",
       "    </tr>\n",
       "    <tr>\n",
       "      <th>min</th>\n",
       "      <td>8.081920e+07</td>\n",
       "    </tr>\n",
       "    <tr>\n",
       "      <th>25%</th>\n",
       "      <td>9.476918e+07</td>\n",
       "    </tr>\n",
       "    <tr>\n",
       "      <th>50%</th>\n",
       "      <td>1.119326e+08</td>\n",
       "    </tr>\n",
       "    <tr>\n",
       "      <th>75%</th>\n",
       "      <td>1.198968e+08</td>\n",
       "    </tr>\n",
       "    <tr>\n",
       "      <th>max</th>\n",
       "      <td>1.855495e+08</td>\n",
       "    </tr>\n",
       "  </tbody>\n",
       "</table>\n",
       "</div>"
      ],
      "text/plain": [
       "             Volume\n",
       "count  2.300000e+01\n",
       "mean   1.152541e+08\n",
       "std    2.832969e+07\n",
       "min    8.081920e+07\n",
       "25%    9.476918e+07\n",
       "50%    1.119326e+08\n",
       "75%    1.198968e+08\n",
       "max    1.855495e+08"
      ]
     },
     "execution_count": 8,
     "metadata": {},
     "output_type": "execute_result"
    }
   ],
   "source": [
    "apple.describe()                             #statistical measures"
   ]
  },
  {
   "cell_type": "markdown",
   "metadata": {},
   "source": [
    "## Data Cleaning"
   ]
  },
  {
   "cell_type": "code",
   "execution_count": 11,
   "metadata": {},
   "outputs": [
    {
     "data": {
      "text/plain": [
       "Date          object\n",
       "Close/Last    object\n",
       "Volume         int64\n",
       "Open          object\n",
       "High          object\n",
       "Low           object\n",
       "dtype: object"
      ]
     },
     "execution_count": 11,
     "metadata": {},
     "output_type": "execute_result"
    }
   ],
   "source": [
    "apple.dtypes"
   ]
  },
  {
   "cell_type": "code",
   "execution_count": 12,
   "metadata": {},
   "outputs": [
    {
     "data": {
      "text/html": [
       "<div>\n",
       "<style scoped>\n",
       "    .dataframe tbody tr th:only-of-type {\n",
       "        vertical-align: middle;\n",
       "    }\n",
       "\n",
       "    .dataframe tbody tr th {\n",
       "        vertical-align: top;\n",
       "    }\n",
       "\n",
       "    .dataframe thead th {\n",
       "        text-align: right;\n",
       "    }\n",
       "</style>\n",
       "<table border=\"1\" class=\"dataframe\">\n",
       "  <thead>\n",
       "    <tr style=\"text-align: right;\">\n",
       "      <th></th>\n",
       "      <th>Date</th>\n",
       "      <th>Close/Last</th>\n",
       "      <th>Volume</th>\n",
       "      <th>Open</th>\n",
       "      <th>High</th>\n",
       "      <th>Low</th>\n",
       "    </tr>\n",
       "  </thead>\n",
       "  <tbody>\n",
       "    <tr>\n",
       "      <th>0</th>\n",
       "      <td>03/31/2021</td>\n",
       "      <td>122.15</td>\n",
       "      <td>118323800</td>\n",
       "      <td>121.65</td>\n",
       "      <td>123.52</td>\n",
       "      <td>121.15</td>\n",
       "    </tr>\n",
       "    <tr>\n",
       "      <th>1</th>\n",
       "      <td>03/30/2021</td>\n",
       "      <td>119.9</td>\n",
       "      <td>85671920</td>\n",
       "      <td>120.11</td>\n",
       "      <td>120.4031</td>\n",
       "      <td>118.86</td>\n",
       "    </tr>\n",
       "    <tr>\n",
       "      <th>2</th>\n",
       "      <td>03/29/2021</td>\n",
       "      <td>121.39</td>\n",
       "      <td>80819200</td>\n",
       "      <td>121.65</td>\n",
       "      <td>122.58</td>\n",
       "      <td>120.7299</td>\n",
       "    </tr>\n",
       "    <tr>\n",
       "      <th>3</th>\n",
       "      <td>03/26/2021</td>\n",
       "      <td>121.21</td>\n",
       "      <td>94071230</td>\n",
       "      <td>120.35</td>\n",
       "      <td>121.48</td>\n",
       "      <td>118.92</td>\n",
       "    </tr>\n",
       "    <tr>\n",
       "      <th>4</th>\n",
       "      <td>03/25/2021</td>\n",
       "      <td>120.59</td>\n",
       "      <td>98844680</td>\n",
       "      <td>119.54</td>\n",
       "      <td>121.66</td>\n",
       "      <td>119</td>\n",
       "    </tr>\n",
       "  </tbody>\n",
       "</table>\n",
       "</div>"
      ],
      "text/plain": [
       "         Date Close/Last     Volume    Open      High       Low\n",
       "0  03/31/2021     122.15  118323800  121.65    123.52    121.15\n",
       "1  03/30/2021      119.9   85671920  120.11  120.4031    118.86\n",
       "2  03/29/2021     121.39   80819200  121.65    122.58  120.7299\n",
       "3  03/26/2021     121.21   94071230  120.35    121.48    118.92\n",
       "4  03/25/2021     120.59   98844680  119.54    121.66       119"
      ]
     },
     "execution_count": 12,
     "metadata": {},
     "output_type": "execute_result"
    }
   ],
   "source": [
    "apple = apple.replace({'\\$':''}, regex = True)                   #removing $\n",
    "apple.head()"
   ]
  },
  {
   "cell_type": "code",
   "execution_count": 14,
   "metadata": {},
   "outputs": [
    {
     "data": {
      "text/plain": [
       "Date       object\n",
       "Close     float64\n",
       "Volume      int32\n",
       "Open      float64\n",
       "High      float64\n",
       "Low       float64\n",
       "dtype: object"
      ]
     },
     "execution_count": 14,
     "metadata": {},
     "output_type": "execute_result"
    }
   ],
   "source": [
    "#converting the data type\n",
    "df=apple\n",
    "df.columns=[\"Date\", \"Close\", \"Volume\", \"Open\", \"High\", \"Low\"]\n",
    "df=df.astype({\"Close\": float, \"Volume\": int, \"Open\": float, \"High\": float, \"Low\":float })\n",
    "df.dtypes"
   ]
  },
  {
   "cell_type": "code",
   "execution_count": 15,
   "metadata": {},
   "outputs": [
    {
     "data": {
      "text/html": [
       "<div>\n",
       "<style scoped>\n",
       "    .dataframe tbody tr th:only-of-type {\n",
       "        vertical-align: middle;\n",
       "    }\n",
       "\n",
       "    .dataframe tbody tr th {\n",
       "        vertical-align: top;\n",
       "    }\n",
       "\n",
       "    .dataframe thead th {\n",
       "        text-align: right;\n",
       "    }\n",
       "</style>\n",
       "<table border=\"1\" class=\"dataframe\">\n",
       "  <thead>\n",
       "    <tr style=\"text-align: right;\">\n",
       "      <th></th>\n",
       "      <th>Close</th>\n",
       "      <th>Volume</th>\n",
       "      <th>Open</th>\n",
       "      <th>High</th>\n",
       "      <th>Low</th>\n",
       "    </tr>\n",
       "  </thead>\n",
       "  <tbody>\n",
       "    <tr>\n",
       "      <th>count</th>\n",
       "      <td>23.000000</td>\n",
       "      <td>2.300000e+01</td>\n",
       "      <td>23.000000</td>\n",
       "      <td>23.000000</td>\n",
       "      <td>23.000000</td>\n",
       "    </tr>\n",
       "    <tr>\n",
       "      <th>mean</th>\n",
       "      <td>121.871087</td>\n",
       "      <td>1.152541e+08</td>\n",
       "      <td>122.087391</td>\n",
       "      <td>123.471652</td>\n",
       "      <td>120.403952</td>\n",
       "    </tr>\n",
       "    <tr>\n",
       "      <th>std</th>\n",
       "      <td>2.413928</td>\n",
       "      <td>2.832969e+07</td>\n",
       "      <td>2.206744</td>\n",
       "      <td>2.264314</td>\n",
       "      <td>2.097565</td>\n",
       "    </tr>\n",
       "    <tr>\n",
       "      <th>min</th>\n",
       "      <td>116.360000</td>\n",
       "      <td>8.081920e+07</td>\n",
       "      <td>119.030000</td>\n",
       "      <td>120.403100</td>\n",
       "      <td>116.210000</td>\n",
       "    </tr>\n",
       "    <tr>\n",
       "      <th>25%</th>\n",
       "      <td>120.330000</td>\n",
       "      <td>9.476918e+07</td>\n",
       "      <td>120.375000</td>\n",
       "      <td>121.797500</td>\n",
       "      <td>118.960000</td>\n",
       "    </tr>\n",
       "    <tr>\n",
       "      <th>50%</th>\n",
       "      <td>121.390000</td>\n",
       "      <td>1.119326e+08</td>\n",
       "      <td>121.650000</td>\n",
       "      <td>123.180000</td>\n",
       "      <td>120.260000</td>\n",
       "    </tr>\n",
       "    <tr>\n",
       "      <th>75%</th>\n",
       "      <td>122.965000</td>\n",
       "      <td>1.198968e+08</td>\n",
       "      <td>123.105000</td>\n",
       "      <td>124.120000</td>\n",
       "      <td>121.550000</td>\n",
       "    </tr>\n",
       "    <tr>\n",
       "      <th>max</th>\n",
       "      <td>127.790000</td>\n",
       "      <td>1.855495e+08</td>\n",
       "      <td>128.410000</td>\n",
       "      <td>128.720000</td>\n",
       "      <td>125.010000</td>\n",
       "    </tr>\n",
       "  </tbody>\n",
       "</table>\n",
       "</div>"
      ],
      "text/plain": [
       "            Close        Volume        Open        High         Low\n",
       "count   23.000000  2.300000e+01   23.000000   23.000000   23.000000\n",
       "mean   121.871087  1.152541e+08  122.087391  123.471652  120.403952\n",
       "std      2.413928  2.832969e+07    2.206744    2.264314    2.097565\n",
       "min    116.360000  8.081920e+07  119.030000  120.403100  116.210000\n",
       "25%    120.330000  9.476918e+07  120.375000  121.797500  118.960000\n",
       "50%    121.390000  1.119326e+08  121.650000  123.180000  120.260000\n",
       "75%    122.965000  1.198968e+08  123.105000  124.120000  121.550000\n",
       "max    127.790000  1.855495e+08  128.410000  128.720000  125.010000"
      ]
     },
     "execution_count": 15,
     "metadata": {},
     "output_type": "execute_result"
    }
   ],
   "source": [
    "df.describe()"
   ]
  },
  {
   "cell_type": "code",
   "execution_count": 16,
   "metadata": {},
   "outputs": [
    {
     "data": {
      "text/html": [
       "<div>\n",
       "<style scoped>\n",
       "    .dataframe tbody tr th:only-of-type {\n",
       "        vertical-align: middle;\n",
       "    }\n",
       "\n",
       "    .dataframe tbody tr th {\n",
       "        vertical-align: top;\n",
       "    }\n",
       "\n",
       "    .dataframe thead th {\n",
       "        text-align: right;\n",
       "    }\n",
       "</style>\n",
       "<table border=\"1\" class=\"dataframe\">\n",
       "  <thead>\n",
       "    <tr style=\"text-align: right;\">\n",
       "      <th></th>\n",
       "      <th>Close</th>\n",
       "      <th>Open</th>\n",
       "      <th>High</th>\n",
       "      <th>Low</th>\n",
       "    </tr>\n",
       "  </thead>\n",
       "  <tbody>\n",
       "    <tr>\n",
       "      <th>count</th>\n",
       "      <td>23.000000</td>\n",
       "      <td>23.000000</td>\n",
       "      <td>23.000000</td>\n",
       "      <td>23.000000</td>\n",
       "    </tr>\n",
       "    <tr>\n",
       "      <th>mean</th>\n",
       "      <td>121.871087</td>\n",
       "      <td>122.087391</td>\n",
       "      <td>123.471652</td>\n",
       "      <td>120.403952</td>\n",
       "    </tr>\n",
       "    <tr>\n",
       "      <th>std</th>\n",
       "      <td>2.413928</td>\n",
       "      <td>2.206744</td>\n",
       "      <td>2.264314</td>\n",
       "      <td>2.097565</td>\n",
       "    </tr>\n",
       "    <tr>\n",
       "      <th>min</th>\n",
       "      <td>116.360000</td>\n",
       "      <td>119.030000</td>\n",
       "      <td>120.403100</td>\n",
       "      <td>116.210000</td>\n",
       "    </tr>\n",
       "    <tr>\n",
       "      <th>25%</th>\n",
       "      <td>120.330000</td>\n",
       "      <td>120.375000</td>\n",
       "      <td>121.797500</td>\n",
       "      <td>118.960000</td>\n",
       "    </tr>\n",
       "    <tr>\n",
       "      <th>50%</th>\n",
       "      <td>121.390000</td>\n",
       "      <td>121.650000</td>\n",
       "      <td>123.180000</td>\n",
       "      <td>120.260000</td>\n",
       "    </tr>\n",
       "    <tr>\n",
       "      <th>75%</th>\n",
       "      <td>122.965000</td>\n",
       "      <td>123.105000</td>\n",
       "      <td>124.120000</td>\n",
       "      <td>121.550000</td>\n",
       "    </tr>\n",
       "    <tr>\n",
       "      <th>max</th>\n",
       "      <td>127.790000</td>\n",
       "      <td>128.410000</td>\n",
       "      <td>128.720000</td>\n",
       "      <td>125.010000</td>\n",
       "    </tr>\n",
       "  </tbody>\n",
       "</table>\n",
       "</div>"
      ],
      "text/plain": [
       "            Close        Open        High         Low\n",
       "count   23.000000   23.000000   23.000000   23.000000\n",
       "mean   121.871087  122.087391  123.471652  120.403952\n",
       "std      2.413928    2.206744    2.264314    2.097565\n",
       "min    116.360000  119.030000  120.403100  116.210000\n",
       "25%    120.330000  120.375000  121.797500  118.960000\n",
       "50%    121.390000  121.650000  123.180000  120.260000\n",
       "75%    122.965000  123.105000  124.120000  121.550000\n",
       "max    127.790000  128.410000  128.720000  125.010000"
      ]
     },
     "execution_count": 16,
     "metadata": {},
     "output_type": "execute_result"
    }
   ],
   "source": [
    "df.describe(include=\"float\")"
   ]
  },
  {
   "cell_type": "code",
   "execution_count": 17,
   "metadata": {},
   "outputs": [
    {
     "data": {
      "text/html": [
       "<div>\n",
       "<style scoped>\n",
       "    .dataframe tbody tr th:only-of-type {\n",
       "        vertical-align: middle;\n",
       "    }\n",
       "\n",
       "    .dataframe tbody tr th {\n",
       "        vertical-align: top;\n",
       "    }\n",
       "\n",
       "    .dataframe thead th {\n",
       "        text-align: right;\n",
       "    }\n",
       "</style>\n",
       "<table border=\"1\" class=\"dataframe\">\n",
       "  <thead>\n",
       "    <tr style=\"text-align: right;\">\n",
       "      <th></th>\n",
       "      <th>Date</th>\n",
       "    </tr>\n",
       "  </thead>\n",
       "  <tbody>\n",
       "    <tr>\n",
       "      <th>count</th>\n",
       "      <td>23</td>\n",
       "    </tr>\n",
       "    <tr>\n",
       "      <th>unique</th>\n",
       "      <td>23</td>\n",
       "    </tr>\n",
       "    <tr>\n",
       "      <th>top</th>\n",
       "      <td>03/26/2021</td>\n",
       "    </tr>\n",
       "    <tr>\n",
       "      <th>freq</th>\n",
       "      <td>1</td>\n",
       "    </tr>\n",
       "  </tbody>\n",
       "</table>\n",
       "</div>"
      ],
      "text/plain": [
       "              Date\n",
       "count           23\n",
       "unique          23\n",
       "top     03/26/2021\n",
       "freq             1"
      ]
     },
     "execution_count": 17,
     "metadata": {},
     "output_type": "execute_result"
    }
   ],
   "source": [
    "df.describe(include=\"object\")"
   ]
  },
  {
   "cell_type": "markdown",
   "metadata": {},
   "source": [
    "## Filtering Data\n"
   ]
  },
  {
   "cell_type": "code",
   "execution_count": 28,
   "metadata": {},
   "outputs": [
    {
     "data": {
      "text/html": [
       "<div>\n",
       "<style scoped>\n",
       "    .dataframe tbody tr th:only-of-type {\n",
       "        vertical-align: middle;\n",
       "    }\n",
       "\n",
       "    .dataframe tbody tr th {\n",
       "        vertical-align: top;\n",
       "    }\n",
       "\n",
       "    .dataframe thead th {\n",
       "        text-align: right;\n",
       "    }\n",
       "</style>\n",
       "<table border=\"1\" class=\"dataframe\">\n",
       "  <thead>\n",
       "    <tr style=\"text-align: right;\">\n",
       "      <th></th>\n",
       "      <th>Date</th>\n",
       "      <th>Close</th>\n",
       "      <th>Volume</th>\n",
       "      <th>Open</th>\n",
       "      <th>High</th>\n",
       "      <th>Low</th>\n",
       "    </tr>\n",
       "  </thead>\n",
       "  <tbody>\n",
       "    <tr>\n",
       "      <th>0</th>\n",
       "      <td>03/31/2021</td>\n",
       "      <td>122.15</td>\n",
       "      <td>118323800</td>\n",
       "      <td>121.65</td>\n",
       "      <td>123.52</td>\n",
       "      <td>121.1500</td>\n",
       "    </tr>\n",
       "    <tr>\n",
       "      <th>2</th>\n",
       "      <td>03/29/2021</td>\n",
       "      <td>121.39</td>\n",
       "      <td>80819200</td>\n",
       "      <td>121.65</td>\n",
       "      <td>122.58</td>\n",
       "      <td>120.7299</td>\n",
       "    </tr>\n",
       "    <tr>\n",
       "      <th>3</th>\n",
       "      <td>03/26/2021</td>\n",
       "      <td>121.21</td>\n",
       "      <td>94071230</td>\n",
       "      <td>120.35</td>\n",
       "      <td>121.48</td>\n",
       "      <td>118.9200</td>\n",
       "    </tr>\n",
       "    <tr>\n",
       "      <th>4</th>\n",
       "      <td>03/25/2021</td>\n",
       "      <td>120.59</td>\n",
       "      <td>98844680</td>\n",
       "      <td>119.54</td>\n",
       "      <td>121.66</td>\n",
       "      <td>119.0000</td>\n",
       "    </tr>\n",
       "    <tr>\n",
       "      <th>5</th>\n",
       "      <td>03/24/2021</td>\n",
       "      <td>120.09</td>\n",
       "      <td>88530490</td>\n",
       "      <td>122.82</td>\n",
       "      <td>122.90</td>\n",
       "      <td>120.0650</td>\n",
       "    </tr>\n",
       "  </tbody>\n",
       "</table>\n",
       "</div>"
      ],
      "text/plain": [
       "         Date   Close     Volume    Open    High       Low\n",
       "0  03/31/2021  122.15  118323800  121.65  123.52  121.1500\n",
       "2  03/29/2021  121.39   80819200  121.65  122.58  120.7299\n",
       "3  03/26/2021  121.21   94071230  120.35  121.48  118.9200\n",
       "4  03/25/2021  120.59   98844680  119.54  121.66  119.0000\n",
       "5  03/24/2021  120.09   88530490  122.82  122.90  120.0650"
      ]
     },
     "execution_count": 28,
     "metadata": {},
     "output_type": "execute_result"
    }
   ],
   "source": [
    "# Closing price more than 120\n",
    "\n",
    "mask_closeprice=df.Close>120\n",
    "high_price=df.loc[mask_closeprice]\n",
    "high_price.head()"
   ]
  },
  {
   "cell_type": "code",
   "execution_count": 34,
   "metadata": {},
   "outputs": [
    {
     "data": {
      "text/html": [
       "<div>\n",
       "<style scoped>\n",
       "    .dataframe tbody tr th:only-of-type {\n",
       "        vertical-align: middle;\n",
       "    }\n",
       "\n",
       "    .dataframe tbody tr th {\n",
       "        vertical-align: top;\n",
       "    }\n",
       "\n",
       "    .dataframe thead th {\n",
       "        text-align: right;\n",
       "    }\n",
       "</style>\n",
       "<table border=\"1\" class=\"dataframe\">\n",
       "  <thead>\n",
       "    <tr style=\"text-align: right;\">\n",
       "      <th></th>\n",
       "      <th>Date</th>\n",
       "      <th>Close</th>\n",
       "      <th>Volume</th>\n",
       "      <th>Open</th>\n",
       "      <th>High</th>\n",
       "      <th>Low</th>\n",
       "    </tr>\n",
       "  </thead>\n",
       "  <tbody>\n",
       "    <tr>\n",
       "      <th>0</th>\n",
       "      <td>03/31/2021</td>\n",
       "      <td>122.150</td>\n",
       "      <td>118323800</td>\n",
       "      <td>121.65</td>\n",
       "      <td>123.5200</td>\n",
       "      <td>121.150</td>\n",
       "    </tr>\n",
       "    <tr>\n",
       "      <th>7</th>\n",
       "      <td>03/22/2021</td>\n",
       "      <td>123.390</td>\n",
       "      <td>111912300</td>\n",
       "      <td>120.33</td>\n",
       "      <td>123.8700</td>\n",
       "      <td>120.260</td>\n",
       "    </tr>\n",
       "    <tr>\n",
       "      <th>9</th>\n",
       "      <td>03/18/2021</td>\n",
       "      <td>120.530</td>\n",
       "      <td>121469800</td>\n",
       "      <td>122.88</td>\n",
       "      <td>123.1800</td>\n",
       "      <td>120.320</td>\n",
       "    </tr>\n",
       "    <tr>\n",
       "      <th>10</th>\n",
       "      <td>03/17/2021</td>\n",
       "      <td>124.760</td>\n",
       "      <td>111932600</td>\n",
       "      <td>124.05</td>\n",
       "      <td>125.8599</td>\n",
       "      <td>122.336</td>\n",
       "    </tr>\n",
       "    <tr>\n",
       "      <th>11</th>\n",
       "      <td>03/16/2021</td>\n",
       "      <td>125.570</td>\n",
       "      <td>115227900</td>\n",
       "      <td>125.70</td>\n",
       "      <td>127.2200</td>\n",
       "      <td>124.715</td>\n",
       "    </tr>\n",
       "    <tr>\n",
       "      <th>14</th>\n",
       "      <td>03/11/2021</td>\n",
       "      <td>121.960</td>\n",
       "      <td>103026500</td>\n",
       "      <td>122.54</td>\n",
       "      <td>123.2100</td>\n",
       "      <td>121.260</td>\n",
       "    </tr>\n",
       "    <tr>\n",
       "      <th>16</th>\n",
       "      <td>03/09/2021</td>\n",
       "      <td>121.085</td>\n",
       "      <td>129525800</td>\n",
       "      <td>119.03</td>\n",
       "      <td>122.0600</td>\n",
       "      <td>118.790</td>\n",
       "    </tr>\n",
       "    <tr>\n",
       "      <th>18</th>\n",
       "      <td>03/05/2021</td>\n",
       "      <td>121.420</td>\n",
       "      <td>153766600</td>\n",
       "      <td>120.98</td>\n",
       "      <td>121.9350</td>\n",
       "      <td>117.570</td>\n",
       "    </tr>\n",
       "    <tr>\n",
       "      <th>19</th>\n",
       "      <td>03/04/2021</td>\n",
       "      <td>120.130</td>\n",
       "      <td>178155000</td>\n",
       "      <td>121.75</td>\n",
       "      <td>123.6000</td>\n",
       "      <td>118.620</td>\n",
       "    </tr>\n",
       "    <tr>\n",
       "      <th>20</th>\n",
       "      <td>03/03/2021</td>\n",
       "      <td>122.060</td>\n",
       "      <td>112966300</td>\n",
       "      <td>124.81</td>\n",
       "      <td>125.7100</td>\n",
       "      <td>121.840</td>\n",
       "    </tr>\n",
       "    <tr>\n",
       "      <th>21</th>\n",
       "      <td>03/02/2021</td>\n",
       "      <td>125.120</td>\n",
       "      <td>102260900</td>\n",
       "      <td>128.41</td>\n",
       "      <td>128.7200</td>\n",
       "      <td>125.010</td>\n",
       "    </tr>\n",
       "    <tr>\n",
       "      <th>22</th>\n",
       "      <td>03/01/2021</td>\n",
       "      <td>127.790</td>\n",
       "      <td>116307900</td>\n",
       "      <td>123.75</td>\n",
       "      <td>127.9300</td>\n",
       "      <td>122.790</td>\n",
       "    </tr>\n",
       "  </tbody>\n",
       "</table>\n",
       "</div>"
      ],
      "text/plain": [
       "          Date    Close     Volume    Open      High      Low\n",
       "0   03/31/2021  122.150  118323800  121.65  123.5200  121.150\n",
       "7   03/22/2021  123.390  111912300  120.33  123.8700  120.260\n",
       "9   03/18/2021  120.530  121469800  122.88  123.1800  120.320\n",
       "10  03/17/2021  124.760  111932600  124.05  125.8599  122.336\n",
       "11  03/16/2021  125.570  115227900  125.70  127.2200  124.715\n",
       "14  03/11/2021  121.960  103026500  122.54  123.2100  121.260\n",
       "16  03/09/2021  121.085  129525800  119.03  122.0600  118.790\n",
       "18  03/05/2021  121.420  153766600  120.98  121.9350  117.570\n",
       "19  03/04/2021  120.130  178155000  121.75  123.6000  118.620\n",
       "20  03/03/2021  122.060  112966300  124.81  125.7100  121.840\n",
       "21  03/02/2021  125.120  102260900  128.41  128.7200  125.010\n",
       "22  03/01/2021  127.790  116307900  123.75  127.9300  122.790"
      ]
     },
     "execution_count": 34,
     "metadata": {},
     "output_type": "execute_result"
    }
   ],
   "source": [
    "# Closing price more than 120 and traded volume more than 100000000\n",
    "mask_closeprice = df.Close > 120\n",
    "mask_volume = df.Volume > 100000000\n",
    "high_price_volume = df.loc[mask_closeprice & mask_volume]\n",
    " \n",
    "high_price_volume"
   ]
  },
  {
   "cell_type": "markdown",
   "metadata": {},
   "source": [
    "## Data Visualization"
   ]
  },
  {
   "cell_type": "code",
   "execution_count": 52,
   "metadata": {},
   "outputs": [],
   "source": [
    "\n",
    "import matplotlib.pyplot as plt"
   ]
  },
  {
   "cell_type": "code",
   "execution_count": 64,
   "metadata": {},
   "outputs": [
    {
     "data": {
      "text/plain": [
       "<AxesSubplot:title={'center':'Apple Opening Prices from 1st March 2021-31st March 2021'}, xlabel='Date'>"
      ]
     },
     "execution_count": 64,
     "metadata": {},
     "output_type": "execute_result"
    },
    {
     "data": {
      "image/png": "[encoded data removed]",
      "text/plain": [
       "<Figure size 432x288 with 1 Axes>"
      ]
     },
     "metadata": {
      "needs_background": "light"
     },
     "output_type": "display_data"
    },
    {
     "data": {
      "image/png": "[encoded data removed]",
      "text/plain": [
       "<Figure size 432x288 with 1 Axes>"
      ]
     },
     "metadata": {
      "needs_background": "light"
     },
     "output_type": "display_data"
    }
   ],
   "source": [
    "# adding title\n",
    "\n",
    "df.plot(\"Date\", \"Close\", rot=90, title=\"Apple Closing Prices from 1st March 2021-31st March 2021\", label=\"Closing Price\",color=\"olive\", marker=\"o\", markerfacecolor=\"blue\")\n",
    "df.plot(\"Date\", \"Open\", rot=90, title=\"Apple Opening Prices from 1st March 2021-31st March 2021\", label=\"Opening Price\", marker=\"o\", markerfacecolor=\"pink\")\n"
   ]
  },
  {
   "cell_type": "code",
   "execution_count": 38,
   "metadata": {},
   "outputs": [
    {
     "data": {
      "text/plain": [
       "<AxesSubplot:title={'center':'Apple Closing Prices from 1st March 2021-31st March 2021'}, xlabel='Date', ylabel='Close'>"
      ]
     },
     "execution_count": 38,
     "metadata": {},
     "output_type": "execute_result"
    },
    {
     "data": {
      "image/png": "[encoded data removed]",
      "text/plain": [
       "<Figure size 432x288 with 1 Axes>"
      ]
     },
     "metadata": {
      "needs_background": "light"
     },
     "output_type": "display_data"
    }
   ],
   "source": [
    "## Scatter Plot\n",
    "df.plot(x=\"Date\", y=\"Close\", rot=90, kind=\"scatter\", title=\"Apple Closing Prices from 1st March 2021-31st March 2021\")"
   ]
  },
  {
   "cell_type": "code",
   "execution_count": 39,
   "metadata": {},
   "outputs": [
    {
     "data": {
      "text/plain": [
       "<AxesSubplot:title={'center':'Apple Closing Prices from 1st March 2021-31st March 2021'}, ylabel='Frequency'>"
      ]
     },
     "execution_count": 39,
     "metadata": {},
     "output_type": "execute_result"
    },
    {
     "data": {
      "image/png": "[encoded data removed]",
      "text/plain": [
       "<Figure size 432x288 with 1 Axes>"
      ]
     },
     "metadata": {
      "needs_background": "light"
     },
     "output_type": "display_data"
    }
   ],
   "source": [
    "## Histogram\n",
    "df.plot(x=\"Date\", y=\"Close\", rot=90, kind=\"hist\", title=\"Apple Closing Prices from 1st March 2021-31st March 2021\")\n"
   ]
  },
  {
   "cell_type": "code",
   "execution_count": 57,
   "metadata": {},
   "outputs": [],
   "source": [
    "z=df.Open"
   ]
  },
  {
   "cell_type": "code",
   "execution_count": 58,
   "metadata": {},
   "outputs": [
    {
     "data": {
      "text/plain": [
       "0     121.65\n",
       "1     120.11\n",
       "2     121.65\n",
       "3     120.35\n",
       "4     119.54\n",
       "5     122.82\n",
       "6     123.33\n",
       "7     120.33\n",
       "8     119.90\n",
       "9     122.88\n",
       "10    124.05\n",
       "11    125.70\n",
       "12    121.41\n",
       "13    120.40\n",
       "14    122.54\n",
       "15    121.69\n",
       "16    119.03\n",
       "17    120.93\n",
       "18    120.98\n",
       "19    121.75\n",
       "20    124.81\n",
       "21    128.41\n",
       "22    123.75\n",
       "Name: Open, dtype: float64"
      ]
     },
     "execution_count": 58,
     "metadata": {},
     "output_type": "execute_result"
    }
   ],
   "source": [
    "z"
   ]
  },
  {
   "cell_type": "code",
   "execution_count": null,
   "metadata": {},
   "outputs": [],
   "source": []
  }
 ],
 "metadata": {
  "kernelspec": {
   "display_name": "Python 3",
   "language": "python",
   "name": "python3"
  },
  "language_info": {
   "codemirror_mode": {
    "name": "ipython",
    "version": 3
   },
   "file_extension": ".py",
   "mimetype": "text/x-python",
   "name": "python",
   "nbconvert_exporter": "python",
   "pygments_lexer": "ipython3",
   "version": "3.8.5"
  }
 },
 "nbformat": 4,
 "nbformat_minor": 4
}
